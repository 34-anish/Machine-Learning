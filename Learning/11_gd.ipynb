{
 "cells": [
  {
   "cell_type": "code",
   "execution_count": 242,
   "id": "3388096a",
   "metadata": {},
   "outputs": [],
   "source": [
    "import pandas as  pd\n",
    "import numpy  as np\n",
    "import matplotlib.pyplot as plt\n",
    "import random"
   ]
  },
  {
   "cell_type": "code",
   "execution_count": 243,
   "id": "2babea67",
   "metadata": {},
   "outputs": [
    {
     "data": {
      "text/html": [
       "<div>\n",
       "<style scoped>\n",
       "    .dataframe tbody tr th:only-of-type {\n",
       "        vertical-align: middle;\n",
       "    }\n",
       "\n",
       "    .dataframe tbody tr th {\n",
       "        vertical-align: top;\n",
       "    }\n",
       "\n",
       "    .dataframe thead th {\n",
       "        text-align: right;\n",
       "    }\n",
       "</style>\n",
       "<table border=\"1\" class=\"dataframe\">\n",
       "  <thead>\n",
       "    <tr style=\"text-align: right;\">\n",
       "      <th></th>\n",
       "      <th>area</th>\n",
       "      <th>bedrooms</th>\n",
       "      <th>price</th>\n",
       "    </tr>\n",
       "  </thead>\n",
       "  <tbody>\n",
       "    <tr>\n",
       "      <th>0</th>\n",
       "      <td>1056</td>\n",
       "      <td>2</td>\n",
       "      <td>39.07</td>\n",
       "    </tr>\n",
       "    <tr>\n",
       "      <th>1</th>\n",
       "      <td>2600</td>\n",
       "      <td>4</td>\n",
       "      <td>120.00</td>\n",
       "    </tr>\n",
       "    <tr>\n",
       "      <th>2</th>\n",
       "      <td>1440</td>\n",
       "      <td>3</td>\n",
       "      <td>62.00</td>\n",
       "    </tr>\n",
       "    <tr>\n",
       "      <th>3</th>\n",
       "      <td>1521</td>\n",
       "      <td>3</td>\n",
       "      <td>75.00</td>\n",
       "    </tr>\n",
       "    <tr>\n",
       "      <th>4</th>\n",
       "      <td>1200</td>\n",
       "      <td>2</td>\n",
       "      <td>51.00</td>\n",
       "    </tr>\n",
       "  </tbody>\n",
       "</table>\n",
       "</div>"
      ],
      "text/plain": [
       "   area  bedrooms   price\n",
       "0  1056         2   39.07\n",
       "1  2600         4  120.00\n",
       "2  1440         3   62.00\n",
       "3  1521         3   75.00\n",
       "4  1200         2   51.00"
      ]
     },
     "execution_count": 243,
     "metadata": {},
     "output_type": "execute_result"
    }
   ],
   "source": [
    "df  = pd.read_csv(\"Data/homeprices_banglore.csv\")\n",
    "df.head()"
   ]
  },
  {
   "cell_type": "markdown",
   "id": "9d0a36b9",
   "metadata": {},
   "source": [
    "# Scaling the data"
   ]
  },
  {
   "cell_type": "code",
   "execution_count": 244,
   "id": "0d5ea883",
   "metadata": {},
   "outputs": [],
   "source": [
    "from sklearn.preprocessing import MinMaxScaler\n",
    "sx = MinMaxScaler()\n",
    "sy = MinMaxScaler()\n",
    "scaled_x = sx.fit_transform(df.drop(\"price\",axis=\"columns\"))\n",
    "scaled_y = sy.fit_transform(df['price'].values.reshape(df['price'].shape[0],1))"
   ]
  },
  {
   "cell_type": "code",
   "execution_count": 245,
   "id": "b0961fdc",
   "metadata": {},
   "outputs": [
    {
     "data": {
      "text/plain": [
       "(array([[0.08827586, 0.25      ],\n",
       "        [0.62068966, 0.75      ],\n",
       "        [0.22068966, 0.5       ],\n",
       "        [0.24862069, 0.5       ],\n",
       "        [0.13793103, 0.25      ],\n",
       "        [0.12758621, 0.25      ],\n",
       "        [0.6662069 , 0.75      ],\n",
       "        [0.86206897, 0.75      ],\n",
       "        [0.17586207, 0.5       ],\n",
       "        [1.        , 1.        ],\n",
       "        [0.34482759, 0.5       ],\n",
       "        [0.68448276, 0.75      ],\n",
       "        [0.06896552, 0.25      ],\n",
       "        [0.10344828, 0.25      ],\n",
       "        [0.5       , 0.5       ],\n",
       "        [0.12931034, 0.25      ],\n",
       "        [0.13103448, 0.5       ],\n",
       "        [0.25517241, 0.5       ],\n",
       "        [0.67931034, 0.5       ],\n",
       "        [0.        , 0.        ]]),\n",
       " array([[0.05237037],\n",
       "        [0.65185185],\n",
       "        [0.22222222],\n",
       "        [0.31851852],\n",
       "        [0.14074074],\n",
       "        [0.04444444],\n",
       "        [0.76296296],\n",
       "        [0.91111111],\n",
       "        [0.13333333],\n",
       "        [1.        ],\n",
       "        [0.37037037],\n",
       "        [0.8       ],\n",
       "        [0.04444444],\n",
       "        [0.05925926],\n",
       "        [0.51111111],\n",
       "        [0.07407407],\n",
       "        [0.11851852],\n",
       "        [0.20740741],\n",
       "        [0.51851852],\n",
       "        [0.        ]]))"
      ]
     },
     "execution_count": 245,
     "metadata": {},
     "output_type": "execute_result"
    }
   ],
   "source": [
    "scaled_x , scaled_y"
   ]
  },
  {
   "cell_type": "code",
   "execution_count": 246,
   "id": "ead23984",
   "metadata": {},
   "outputs": [
    {
     "data": {
      "text/plain": [
       "array([0.05237037, 0.65185185, 0.22222222, 0.31851852, 0.14074074,\n",
       "       0.04444444, 0.76296296, 0.91111111, 0.13333333, 1.        ,\n",
       "       0.37037037, 0.8       , 0.04444444, 0.05925926, 0.51111111,\n",
       "       0.07407407, 0.11851852, 0.20740741, 0.51851852, 0.        ])"
      ]
     },
     "execution_count": 246,
     "metadata": {},
     "output_type": "execute_result"
    }
   ],
   "source": [
    "scaled_y.reshape(scaled_y.shape[0],)"
   ]
  },
  {
   "cell_type": "code",
   "execution_count": 247,
   "id": "c9e3080e",
   "metadata": {},
   "outputs": [
    {
     "data": {
      "text/plain": [
       "array([[0.05237037],\n",
       "       [0.65185185],\n",
       "       [0.22222222],\n",
       "       [0.31851852],\n",
       "       [0.14074074],\n",
       "       [0.04444444],\n",
       "       [0.76296296],\n",
       "       [0.91111111],\n",
       "       [0.13333333],\n",
       "       [1.        ],\n",
       "       [0.37037037],\n",
       "       [0.8       ],\n",
       "       [0.04444444],\n",
       "       [0.05925926],\n",
       "       [0.51111111],\n",
       "       [0.07407407],\n",
       "       [0.11851852],\n",
       "       [0.20740741],\n",
       "       [0.51851852],\n",
       "       [0.        ]])"
      ]
     },
     "execution_count": 247,
     "metadata": {},
     "output_type": "execute_result"
    }
   ],
   "source": [
    "scaled_y"
   ]
  },
  {
   "cell_type": "markdown",
   "id": "df2aec61",
   "metadata": {},
   "source": [
    "#  Batch Gradient Descent\n",
    "-It uses all the training samples and adjusts the weights accordingly"
   ]
  },
  {
   "cell_type": "code",
   "execution_count": 248,
   "id": "d016b20c",
   "metadata": {},
   "outputs": [
    {
     "data": {
      "text/plain": [
       "(array([0.08827586, 0.62068966, 0.22068966, 0.24862069, 0.13793103,\n",
       "        0.12758621, 0.6662069 , 0.86206897, 0.17586207, 1.        ,\n",
       "        0.34482759, 0.68448276, 0.06896552, 0.10344828, 0.5       ,\n",
       "        0.12931034, 0.13103448, 0.25517241, 0.67931034, 0.        ]),\n",
       " array([0.25, 0.75, 0.5 , 0.5 , 0.25, 0.25, 0.75, 0.75, 0.5 , 1.  , 0.5 ,\n",
       "        0.75, 0.25, 0.25, 0.5 , 0.25, 0.5 , 0.5 , 0.5 , 0.  ]),\n",
       " array([0.05237037, 0.65185185, 0.22222222, 0.31851852, 0.14074074,\n",
       "        0.04444444, 0.76296296, 0.91111111, 0.13333333, 1.        ,\n",
       "        0.37037037, 0.8       , 0.04444444, 0.05925926, 0.51111111,\n",
       "        0.07407407, 0.11851852, 0.20740741, 0.51851852, 0.        ]))"
      ]
     },
     "execution_count": 248,
     "metadata": {},
     "output_type": "execute_result"
    }
   ],
   "source": [
    "scaled_x.T[0],scaled_x.T[1],scaled_y.reshape(scaled_y.shape[0])"
   ]
  },
  {
   "cell_type": "code",
   "execution_count": 249,
   "id": "e82444c6",
   "metadata": {},
   "outputs": [],
   "source": [
    "def graph(epoch_list,cost_list):\n",
    "    plt.xlabel(\"epoch\")\n",
    "    plt.ylabel(\"cost\")\n",
    "    plt.plot(epoch_list,cost_list)"
   ]
  },
  {
   "cell_type": "code",
   "execution_count": 250,
   "id": "b502d6ed",
   "metadata": {},
   "outputs": [],
   "source": [
    "def batch_gradient_descent(area,bedrooms,price,epochs):\n",
    "\n",
    "    w1=w2=1\n",
    "    b=0\n",
    "    n=len(area)\n",
    "    learning_rate = .1\n",
    "    cost_list = []\n",
    "    epoch_list = []\n",
    "    for i in range(epochs):\n",
    "\n",
    "        y_pred =w1 * area + w2*bedrooms +b\n",
    "        w1d = -2/n*(np.dot(area,(price-y_pred)))       \n",
    "        w1=w1-learning_rate*w1d\n",
    "        w2d = -2/n*(np.dot(bedrooms,(price-y_pred)))\n",
    "        w2=w2-learning_rate*w2d\n",
    "        bd = -2*np.mean(price-y_pred)\n",
    "        b = b-learning_rate*bd\n",
    "        cost = np.mean(np.square(price-y_pred))\n",
    "        if i %5 ==0:\n",
    "            cost_list.append(cost)\n",
    "            epoch_list.append(i)\n",
    "    return w1,w2, b,cost,cost_list,epoch_list\n",
    "        \n",
    "                    \n",
    "                        \n",
    "        \n",
    "        "
   ]
  },
  {
   "cell_type": "code",
   "execution_count": 251,
   "id": "23e4403f",
   "metadata": {},
   "outputs": [],
   "source": [
    "w1,w2, b,cost,cost_list,epoch_list=batch_gradient_descent(scaled_x.T[0],scaled_x.T[1],scaled_y.reshape(scaled_y.shape[0]),100)"
   ]
  },
  {
   "cell_type": "code",
   "execution_count": 252,
   "id": "6ab151ba",
   "metadata": {},
   "outputs": [
    {
     "data": {
      "text/plain": [
       "([0.2768777174681,\n",
       "  0.026963888725492113,\n",
       "  0.015142621848227952,\n",
       "  0.012993566410427749,\n",
       "  0.011521234789028046,\n",
       "  0.010320289685641564,\n",
       "  0.009330879304359014,\n",
       "  0.008514576222036248,\n",
       "  0.0078402835157606,\n",
       "  0.0072825153889551604,\n",
       "  0.006820371823619048,\n",
       "  0.006436712779016191,\n",
       "  0.006117481579662423,\n",
       "  0.005851150081352803,\n",
       "  0.005628263679383305,\n",
       "  0.005441068191662513,\n",
       "  0.005283203883426208,\n",
       "  0.005149454551531679,\n",
       "  0.005035541760450721,\n",
       "  0.004937956104987615],\n",
       " [0,\n",
       "  5,\n",
       "  10,\n",
       "  15,\n",
       "  20,\n",
       "  25,\n",
       "  30,\n",
       "  35,\n",
       "  40,\n",
       "  45,\n",
       "  50,\n",
       "  55,\n",
       "  60,\n",
       "  65,\n",
       "  70,\n",
       "  75,\n",
       "  80,\n",
       "  85,\n",
       "  90,\n",
       "  95])"
      ]
     },
     "execution_count": 252,
     "metadata": {},
     "output_type": "execute_result"
    }
   ],
   "source": [
    "cost_list,epoch_list"
   ]
  },
  {
   "cell_type": "code",
   "execution_count": 253,
   "id": "ef745baa",
   "metadata": {},
   "outputs": [
    {
     "data": {
      "image/png": "[encoded data removed]",
      "text/plain": [
       "<Figure size 432x288 with 1 Axes>"
      ]
     },
     "metadata": {
      "needs_background": "light"
     },
     "output_type": "display_data"
    }
   ],
   "source": [
    "graph(epoch_list,cost_list)"
   ]
  },
  {
   "cell_type": "markdown",
   "id": "b542ccc3",
   "metadata": {},
   "source": [
    "# Predicting the values\n",
    "- we should not forget to inverse transform the value"
   ]
  },
  {
   "cell_type": "code",
   "execution_count": 254,
   "id": "499d8f5d",
   "metadata": {},
   "outputs": [],
   "source": [
    "def predict(area,bedrooms,w1=w1,w2=w2,b=b):\n",
    "    scaled_x = sx.transform([[area,bedrooms]])[0]\n",
    "    scaled_y = scaled_x[0]*w1+scaled_x[1]*w2+b\n",
    "    pred = sy.inverse_transform([[scaled_y]])\n",
    "    print(pred[0][0])"
   ]
  },
  {
   "cell_type": "code",
   "execution_count": 255,
   "id": "7aba3de1",
   "metadata": {},
   "outputs": [
    {
     "name": "stdout",
     "output_type": "stream",
     "text": [
      "36.378312081406634\n"
     ]
    },
    {
     "name": "stderr",
     "output_type": "stream",
     "text": [
      "C:\\Users\\User\\anaconda3\\lib\\site-packages\\sklearn\\base.py:450: UserWarning: X does not have valid feature names, but MinMaxScaler was fitted with feature names\n",
      "  warnings.warn(\n"
     ]
    }
   ],
   "source": [
    "predict(1056,2)"
   ]
  },
  {
   "cell_type": "markdown",
   "id": "0192dd8c",
   "metadata": {},
   "source": [
    "# Stochastic Gradient Descent\n",
    "- it uses one randomly picked sample"
   ]
  },
  {
   "cell_type": "code",
   "execution_count": 256,
   "id": "a7d1b2bb",
   "metadata": {},
   "outputs": [],
   "source": [
    "\n",
    "def stochastic_gradient_descent(area,bedrooms,price,epochs):\n",
    "\n",
    "    w1=w2=1\n",
    "    b=0\n",
    "    n=len(area)\n",
    "    learning_rate = .1\n",
    "    cost_list = []\n",
    "    epoch_list = []\n",
    "    for i in range(epochs):\n",
    "        random_index = random.randint(0,n-1)\n",
    "        sample_area = area[random_index]\n",
    "        sample_bedrooms = bedrooms[random_index]\n",
    "        sample_price = price[random_index]\n",
    "\n",
    "        y_pred =w1 * sample_area + w2 * sample_bedrooms +b\n",
    "        w1d = -2*np.mean(sample_area*(price-y_pred))       \n",
    "        w1=w1-learning_rate*w1d\n",
    "        w2d = -2*np.mean(sample_bedrooms*(price-y_pred))\n",
    "        w2=w2-learning_rate*w2d\n",
    "        bd = -2*np.mean(sample_price-y_pred)\n",
    "        b = b-learning_rate*bd\n",
    "        cost = np.mean(np.square(price-y_pred))\n",
    "        if i %5 ==0:\n",
    "            cost_list.append(cost)\n",
    "            epoch_list.append(i)\n",
    "    return w1,w2, b,cost,cost_list,epoch_list"
   ]
  },
  {
   "cell_type": "code",
   "execution_count": 257,
   "id": "1623394b",
   "metadata": {},
   "outputs": [],
   "source": [
    "w1,w2, b,cost,cost_list,epoch_list=stochastic_gradient_descent(scaled_x.T[0],scaled_x.T[1],scaled_y.reshape(scaled_y.shape[0]),1000)"
   ]
  },
  {
   "cell_type": "code",
   "execution_count": 258,
   "id": "204363aa",
   "metadata": {},
   "outputs": [
    {
     "data": {
      "image/png": "[encoded data removed]",
      "text/plain": [
       "<Figure size 432x288 with 1 Axes>"
      ]
     },
     "metadata": {
      "needs_background": "light"
     },
     "output_type": "display_data"
    }
   ],
   "source": [
    "graph(epoch_list,cost_list)"
   ]
  },
  {
   "cell_type": "markdown",
   "id": "5a71daf6",
   "metadata": {},
   "source": [
    "# Mini-Batch Gradient Descent\n",
    "- it uses a batch of (randomly picked) samples for a forward pass and then adjusts the weights\n",
    "> For example if I have 20 training samples\n",
    ">>I will use random number of random samples"
   ]
  },
  {
   "cell_type": "code",
   "execution_count": 273,
   "id": "96fca401",
   "metadata": {},
   "outputs": [],
   "source": [
    "def minibatch_gradient_descent(area,bedrooms,price,epochs):\n",
    "\n",
    "    w1=w2=1\n",
    "    b=0\n",
    "    n=len(area)\n",
    "    learning_rate = .1\n",
    "    cost_list = []\n",
    "    epoch_list = []\n",
    "    for i in range(epochs):\n",
    "        random_index = 5\n",
    "        sample_area_array = np.random.choice(area, size=random_index, replace=False)\n",
    "        sample_bedrooms_array = np.random.choice(bedrooms, size=random_index, replace=False)\n",
    "        sample_price_array = np.random.choice(price, size=random_index, replace=False)\n",
    "        y_pred =w1 * sample_area_array + w2*sample_bedrooms_array +b\n",
    "        w1d = -2/n*(np.dot(sample_area_array,(sample_price_array-y_pred)))       \n",
    "        w1=w1-learning_rate*w1d\n",
    "        w2d = -2/n*(np.dot(sample_bedrooms_array,(sample_price_array-y_pred)))\n",
    "        w2=w2-learning_rate*w2d\n",
    "        bd = -2*np.mean(sample_price_array-y_pred)\n",
    "        b = b-learning_rate*bd\n",
    "        cost = np.mean(np.square(sample_price_array-y_pred))\n",
    "        if i %5 ==0:\n",
    "            cost_list.append(cost)\n",
    "            epoch_list.append(i)\n",
    "    return w1,w2, b,cost,cost_list,epoch_list\n",
    "        \n",
    "                    \n",
    "                        \n",
    "        \n",
    "        "
   ]
  },
  {
   "cell_type": "code",
   "execution_count": 274,
   "id": "9dcf047b",
   "metadata": {},
   "outputs": [],
   "source": [
    "w1,w2, b,cost,cost_list,epoch_list=minibatch_gradient_descent(scaled_x.T[0],scaled_x.T[1],scaled_y.reshape(scaled_y.shape[0]),100)"
   ]
  },
  {
   "cell_type": "code",
   "execution_count": 275,
   "id": "63a7bd38",
   "metadata": {},
   "outputs": [
    {
     "data": {
      "image/png": "[encoded data removed]",
      "text/plain": [
       "<Figure size 432x288 with 1 Axes>"
      ]
     },
     "metadata": {
      "needs_background": "light"
     },
     "output_type": "display_data"
    }
   ],
   "source": [
    "graph(epoch_list,cost_list)"
   ]
  },
  {
   "cell_type": "code",
   "execution_count": 272,
   "id": "273f1661",
   "metadata": {},
   "outputs": [
    {
     "data": {
      "text/plain": [
       "array([ 8, 13, 15,  6, 17, 10,  3,  5, 19, 11, 12,  4,  0, 14,  7,  1,  9,\n",
       "       18, 16,  2])"
      ]
     },
     "execution_count": 272,
     "metadata": {},
     "output_type": "execute_result"
    }
   ],
   "source": [
    "np.random.permutation(20)"
   ]
  }
 ],
 "metadata": {
  "kernelspec": {
   "display_name": "Python 3 (ipykernel)",
   "language": "python",
   "name": "python3"
  },
  "language_info": {
   "codemirror_mode": {
    "name": "ipython",
    "version": 3
   },
   "file_extension": ".py",
   "mimetype": "text/x-python",
   "name": "python",
   "nbconvert_exporter": "python",
   "pygments_lexer": "ipython3",
   "version": "3.9.12"
  }
 },
 "nbformat": 4,
 "nbformat_minor": 5
}
