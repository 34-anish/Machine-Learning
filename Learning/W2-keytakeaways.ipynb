{
 "cells": [
  {
   "cell_type": "markdown",
   "id": "3a199694",
   "metadata": {},
   "source": [
    "[Softmax](#0)"
   ]
  },
  {
   "cell_type": "code",
   "execution_count": 2,
   "id": "aa7a98da",
   "metadata": {},
   "outputs": [],
   "source": [
    "import numpy as np"
   ]
  },
  {
   "cell_type": "markdown",
   "id": "c3376d30",
   "metadata": {},
   "source": [
    "<a name =\"0\"></a>\n",
    "# Softmax"
   ]
  },
  {
   "cell_type": "code",
   "execution_count": 7,
   "id": "57630bfe",
   "metadata": {},
   "outputs": [
    {
     "data": {
      "text/plain": [
       "(3, 2)"
      ]
     },
     "execution_count": 7,
     "metadata": {},
     "output_type": "execute_result"
    }
   ],
   "source": [
    "# This is a 3 by 3 by 2 array, typically images will be (num_px_x, num_px_y,3) where 3 represents the RGB values\n",
    "t_image = np.array([[ 0.67826139,  0.29380381],\n",
    "                     [ 0.90714982,  0.52835647],\n",
    "                     [ 0.4215251 ,  0.45017551]\n",
    "                   ]\n",
    "                  )\n",
    "t_image.shape"
   ]
  },
  {
   "cell_type": "code",
   "execution_count": 13,
   "id": "edb050b2",
   "metadata": {},
   "outputs": [
    {
     "data": {
      "text/plain": [
       "array([[0.59494777, 0.40505223],\n",
       "       [0.59358204, 0.40641796],\n",
       "       [0.49283789, 0.50716211]])"
      ]
     },
     "execution_count": 13,
     "metadata": {},
     "output_type": "execute_result"
    }
   ],
   "source": [
    "exp_image = np.exp(t_image)\n",
    "exp_image/np.sum(exp_image,axis=1,keepdims=True)"
   ]
  },
  {
   "cell_type": "markdown",
   "id": "71212558",
   "metadata": {},
   "source": [
    "# Vectorization"
   ]
  },
  {
   "cell_type": "code",
   "execution_count": 15,
   "id": "9930ea7c",
   "metadata": {},
   "outputs": [],
   "source": [
    "import time\n",
    "x1 = [1,2,3,4]\n",
    "x2 = [4,5,6,7]"
   ]
  },
  {
   "cell_type": "code",
   "execution_count": 18,
   "id": "92fceb3c",
   "metadata": {},
   "outputs": [],
   "source": [
    "dot = 0\n",
    "for i in range(len(x1)):\n",
    "    dot += x1[i]*x2[i]"
   ]
  },
  {
   "cell_type": "code",
   "execution_count": 20,
   "id": "bac21781",
   "metadata": {},
   "outputs": [
    {
     "data": {
      "text/plain": [
       "60"
      ]
     },
     "execution_count": 20,
     "metadata": {},
     "output_type": "execute_result"
    }
   ],
   "source": [
    "dot"
   ]
  },
  {
   "cell_type": "code",
   "execution_count": 23,
   "id": "06590f94",
   "metadata": {},
   "outputs": [
    {
     "data": {
      "text/plain": [
       "60"
      ]
     },
     "execution_count": 23,
     "metadata": {},
     "output_type": "execute_result"
    }
   ],
   "source": [
    "np.dot(x1,x2)"
   ]
  },
  {
   "cell_type": "code",
   "execution_count": 26,
   "id": "0cc7a9ba",
   "metadata": {},
   "outputs": [],
   "source": [
    "outer = np.zeros((len(x1),len(x2)))\n",
    "for i in range(len(x1)):\n",
    "    for j in range(len(x2)):\n",
    "        outer[i,j] = x1[i] * x2[j]"
   ]
  },
  {
   "cell_type": "code",
   "execution_count": 28,
   "id": "3233d7da",
   "metadata": {},
   "outputs": [
    {
     "data": {
      "text/plain": [
       "array([[ 4.,  5.,  6.,  7.],\n",
       "       [ 8., 10., 12., 14.],\n",
       "       [12., 15., 18., 21.],\n",
       "       [16., 20., 24., 28.]])"
      ]
     },
     "execution_count": 28,
     "metadata": {},
     "output_type": "execute_result"
    }
   ],
   "source": [
    "outer\n"
   ]
  },
  {
   "cell_type": "code",
   "execution_count": 30,
   "id": "f6f7911e",
   "metadata": {},
   "outputs": [
    {
     "data": {
      "text/plain": [
       "array([[ 4,  5,  6,  7],\n",
       "       [ 8, 10, 12, 14],\n",
       "       [12, 15, 18, 21],\n",
       "       [16, 20, 24, 28]])"
      ]
     },
     "execution_count": 30,
     "metadata": {},
     "output_type": "execute_result"
    }
   ],
   "source": [
    "np.outer(x1,x2)"
   ]
  },
  {
   "cell_type": "code",
   "execution_count": 33,
   "id": "63ec2567",
   "metadata": {},
   "outputs": [],
   "source": [
    "multiply = np.zeros(len(x1))\n"
   ]
  },
  {
   "cell_type": "code",
   "execution_count": 35,
   "id": "3d218cdd",
   "metadata": {},
   "outputs": [],
   "source": [
    "for i in range(len(x1)):\n",
    "    multiply[i] = x1[i] * x2[i]"
   ]
  },
  {
   "cell_type": "code",
   "execution_count": 36,
   "id": "ebc689e7",
   "metadata": {},
   "outputs": [
    {
     "data": {
      "text/plain": [
       "array([ 4., 10., 18., 28.])"
      ]
     },
     "execution_count": 36,
     "metadata": {},
     "output_type": "execute_result"
    }
   ],
   "source": [
    "multiply"
   ]
  },
  {
   "cell_type": "code",
   "execution_count": 31,
   "id": "6c2dba5e",
   "metadata": {},
   "outputs": [
    {
     "data": {
      "text/plain": [
       "array([ 4, 10, 18, 28])"
      ]
     },
     "execution_count": 31,
     "metadata": {},
     "output_type": "execute_result"
    }
   ],
   "source": [
    "np.multiply(x1,x2)"
   ]
  }
 ],
 "metadata": {
  "kernelspec": {
   "display_name": "Python 3 (ipykernel)",
   "language": "python",
   "name": "python3"
  },
  "language_info": {
   "codemirror_mode": {
    "name": "ipython",
    "version": 3
   },
   "file_extension": ".py",
   "mimetype": "text/x-python",
   "name": "python",
   "nbconvert_exporter": "python",
   "pygments_lexer": "ipython3",
   "version": "3.10.6"
  }
 },
 "nbformat": 4,
 "nbformat_minor": 5
}
