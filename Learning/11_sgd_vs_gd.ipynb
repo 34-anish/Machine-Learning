{
 "cells": [
  {
   "cell_type": "code",
   "execution_count": 420,
   "id": "91fa611b",
   "metadata": {},
   "outputs": [],
   "source": [
    "import pandas as pd\n",
    "import numpy as np \n",
    "import matplotlib.pyplot as plt\n",
    "import random"
   ]
  },
  {
   "cell_type": "code",
   "execution_count": 421,
   "id": "0e47ee20",
   "metadata": {},
   "outputs": [
    {
     "data": {
      "text/html": [
       "<div>\n",
       "<style scoped>\n",
       "    .dataframe tbody tr th:only-of-type {\n",
       "        vertical-align: middle;\n",
       "    }\n",
       "\n",
       "    .dataframe tbody tr th {\n",
       "        vertical-align: top;\n",
       "    }\n",
       "\n",
       "    .dataframe thead th {\n",
       "        text-align: right;\n",
       "    }\n",
       "</style>\n",
       "<table border=\"1\" class=\"dataframe\">\n",
       "  <thead>\n",
       "    <tr style=\"text-align: right;\">\n",
       "      <th></th>\n",
       "      <th>area</th>\n",
       "      <th>bedrooms</th>\n",
       "      <th>price</th>\n",
       "    </tr>\n",
       "  </thead>\n",
       "  <tbody>\n",
       "    <tr>\n",
       "      <th>0</th>\n",
       "      <td>1056</td>\n",
       "      <td>2</td>\n",
       "      <td>39.07</td>\n",
       "    </tr>\n",
       "    <tr>\n",
       "      <th>1</th>\n",
       "      <td>2600</td>\n",
       "      <td>4</td>\n",
       "      <td>120.00</td>\n",
       "    </tr>\n",
       "    <tr>\n",
       "      <th>2</th>\n",
       "      <td>1440</td>\n",
       "      <td>3</td>\n",
       "      <td>62.00</td>\n",
       "    </tr>\n",
       "    <tr>\n",
       "      <th>3</th>\n",
       "      <td>1521</td>\n",
       "      <td>3</td>\n",
       "      <td>75.00</td>\n",
       "    </tr>\n",
       "    <tr>\n",
       "      <th>4</th>\n",
       "      <td>1200</td>\n",
       "      <td>2</td>\n",
       "      <td>51.00</td>\n",
       "    </tr>\n",
       "  </tbody>\n",
       "</table>\n",
       "</div>"
      ],
      "text/plain": [
       "   area  bedrooms   price\n",
       "0  1056         2   39.07\n",
       "1  2600         4  120.00\n",
       "2  1440         3   62.00\n",
       "3  1521         3   75.00\n",
       "4  1200         2   51.00"
      ]
     },
     "execution_count": 421,
     "metadata": {},
     "output_type": "execute_result"
    }
   ],
   "source": [
    "df =pd.read_csv(\"Data/homeprices_banglore.csv\")\n",
    "df.head()"
   ]
  },
  {
   "cell_type": "code",
   "execution_count": 422,
   "id": "7295d62b",
   "metadata": {},
   "outputs": [
    {
     "data": {
      "text/plain": [
       "array([[0.08827586, 0.25      ],\n",
       "       [0.62068966, 0.75      ],\n",
       "       [0.22068966, 0.5       ],\n",
       "       [0.24862069, 0.5       ],\n",
       "       [0.13793103, 0.25      ],\n",
       "       [0.12758621, 0.25      ],\n",
       "       [0.6662069 , 0.75      ],\n",
       "       [0.86206897, 0.75      ],\n",
       "       [0.17586207, 0.5       ],\n",
       "       [1.        , 1.        ],\n",
       "       [0.34482759, 0.5       ],\n",
       "       [0.68448276, 0.75      ],\n",
       "       [0.06896552, 0.25      ],\n",
       "       [0.10344828, 0.25      ],\n",
       "       [0.5       , 0.5       ],\n",
       "       [0.12931034, 0.25      ],\n",
       "       [0.13103448, 0.5       ],\n",
       "       [0.25517241, 0.5       ],\n",
       "       [0.67931034, 0.5       ],\n",
       "       [0.        , 0.        ]])"
      ]
     },
     "execution_count": 422,
     "metadata": {},
     "output_type": "execute_result"
    }
   ],
   "source": [
    "#Scaling the data\n",
    "from sklearn import preprocessing\n",
    "sx = preprocessing.MinMaxScaler()\n",
    "sy = preprocessing.MinMaxScaler()\n",
    "scaled_X = sx.fit_transform(df.drop('price',axis=1))\n",
    "scaled_X"
   ]
  },
  {
   "cell_type": "code",
   "execution_count": 423,
   "id": "3af5f3fb",
   "metadata": {},
   "outputs": [
    {
     "name": "stdout",
     "output_type": "stream",
     "text": [
      "fit_transfrom asks for 3d\n"
     ]
    }
   ],
   "source": [
    "try:\n",
    "    scaled_y = sy.fit_transform(df['price'])\n",
    "except:\n",
    "    print(\"fit_transfrom asks for 3d\")"
   ]
  },
  {
   "cell_type": "code",
   "execution_count": 424,
   "id": "326f84c5",
   "metadata": {},
   "outputs": [
    {
     "name": "stdout",
     "output_type": "stream",
     "text": [
      "Reshaping can only be done on the values noton Series object\n"
     ]
    }
   ],
   "source": [
    "try:\n",
    "    df['price'].reshape(df.shape[0],1)\n",
    "except:\n",
    "    print(\"Reshaping can only be done on the values noton Series object\")"
   ]
  },
  {
   "cell_type": "code",
   "execution_count": 425,
   "id": "0397eb67",
   "metadata": {},
   "outputs": [
    {
     "data": {
      "text/plain": [
       "(20, 3)"
      ]
     },
     "execution_count": 425,
     "metadata": {},
     "output_type": "execute_result"
    }
   ],
   "source": [
    "df.shape"
   ]
  },
  {
   "cell_type": "code",
   "execution_count": 426,
   "id": "4dc3b44f",
   "metadata": {},
   "outputs": [
    {
     "data": {
      "text/plain": [
       "array([[0.05237037],\n",
       "       [0.65185185],\n",
       "       [0.22222222],\n",
       "       [0.31851852],\n",
       "       [0.14074074],\n",
       "       [0.04444444],\n",
       "       [0.76296296],\n",
       "       [0.91111111],\n",
       "       [0.13333333],\n",
       "       [1.        ],\n",
       "       [0.37037037],\n",
       "       [0.8       ],\n",
       "       [0.04444444],\n",
       "       [0.05925926],\n",
       "       [0.51111111],\n",
       "       [0.07407407],\n",
       "       [0.11851852],\n",
       "       [0.20740741],\n",
       "       [0.51851852],\n",
       "       [0.        ]])"
      ]
     },
     "execution_count": 426,
     "metadata": {},
     "output_type": "execute_result"
    }
   ],
   "source": [
    "scaled_y = sy.fit_transform(df['price'].values.reshape(df.shape[0],1))\n",
    "scaled_y"
   ]
  },
  {
   "attachments": {
    "image.png": {
     "image/png": "[encoded data removed]"
    }
   },
   "cell_type": "markdown",
   "id": "6cae3841",
   "metadata": {},
   "source": [
    "![image.png](attachment:image.png)\n",
    "w1,w2, and bias are adjusted accordingly on each epoch"
   ]
  },
  {
   "cell_type": "code",
   "execution_count": 427,
   "id": "9f781386",
   "metadata": {},
   "outputs": [],
   "source": [
    "scaled_X.shape,scaled_y.shape\n",
    "w=np.ones(shape=2)"
   ]
  },
  {
   "cell_type": "markdown",
   "id": "d3f803b0",
   "metadata": {},
   "source": [
    "As the shape of w and scaled_X.T is not feasible for matrix multiplication we need np.dot which results to  "
   ]
  },
  {
   "cell_type": "code",
   "execution_count": 428,
   "id": "5b6eca7f",
   "metadata": {},
   "outputs": [
    {
     "data": {
      "text/plain": [
       "(20,)"
      ]
     },
     "execution_count": 428,
     "metadata": {},
     "output_type": "execute_result"
    }
   ],
   "source": [
    "np.dot(scaled_X,w).shape"
   ]
  },
  {
   "cell_type": "code",
   "execution_count": 429,
   "id": "3372574b",
   "metadata": {},
   "outputs": [],
   "source": [
    "def batch_gradient_descent(X,y_true,epochs,learning_rate=0.01):\n",
    "    number_of_features = X.shape[1]\n",
    "    #Initial assumption on weights and bias\n",
    "    w = np.ones(number_of_features)\n",
    "    b = 0\n",
    "    total_samples = X.shape[0]\n",
    "    #For the graph\n",
    "    cost_list = []\n",
    "    epoch_list =[]\n",
    "    for i in range(epochs):\n",
    "        y_predicted = np.dot(w, X.T) + b\n",
    "\n",
    "        w_grad = -(2/total_samples)*(X.T.dot(y_true-y_predicted))\n",
    "        b_grad = -(2/total_samples)*np.sum(y_true-y_predicted)\n",
    "        w=w-learning_rate*w_grad\n",
    "        b=b-learning_rate*b_grad\n",
    "        cost = np.mean(np.square(y_true-y_predicted))\n",
    "        \n",
    "        if i%10 == 0:\n",
    "            cost_list.append(cost)\n",
    "            epoch_list.append(i)\n",
    "    return w,b,cost,cost_list,epoch_list"
   ]
  },
  {
   "cell_type": "code",
   "execution_count": 430,
   "id": "5aefd228",
   "metadata": {},
   "outputs": [
    {
     "data": {
      "text/plain": [
       "[0.2768777174681,\n",
       " 0.16573507027671064,\n",
       " 0.10212908135956808,\n",
       " 0.06564235879682481,\n",
       " 0.04463022365578522,\n",
       " 0.03245122421764872,\n",
       " 0.025317339083010492,\n",
       " 0.021067914076635823,\n",
       " 0.01847041893523527,\n",
       " 0.016821657535428185,\n",
       " 0.015720331469182485,\n",
       " 0.014937329116527901,\n",
       " 0.014341749105819087,\n",
       " 0.0138587099774241,\n",
       " 0.013445288028074867,\n",
       " 0.013076793952344979,\n",
       " 0.012738945874049962,\n",
       " 0.012423405193086517,\n",
       " 0.012125230310262438,\n",
       " 0.011841424159334757,\n",
       " 0.011570105565415722,\n",
       " 0.011310036391930275,\n",
       " 0.01106035160957391,\n",
       " 0.010820405104702651,\n",
       " 0.010589681505198633,\n",
       " 0.010367745666240432,\n",
       " 0.010154213642862602,\n",
       " 0.009948735925187012,\n",
       " 0.009750987675343718,\n",
       " 0.009560662965348804,\n",
       " 0.009377471304274599,\n",
       " 0.009201135478234784,\n",
       " 0.009031390146006546,\n",
       " 0.008867980872255637,\n",
       " 0.008710663416728342,\n",
       " 0.008559203175573597,\n",
       " 0.008413374715338717,\n",
       " 0.008272961365501463,\n",
       " 0.008137754849850727,\n",
       " 0.00800755494527638,\n",
       " 0.007882169161242129,\n",
       " 0.0077614124359100785,\n",
       " 0.007645106846431061,\n",
       " 0.007533081331802613,\n",
       " 0.0074251714272102086,\n",
       " 0.007321219009066901,\n",
       " 0.007221072050143653,\n",
       " 0.007124584384290001,\n",
       " 0.007031615480311842,\n",
       " 0.006942030224616903]"
      ]
     },
     "execution_count": 430,
     "metadata": {},
     "output_type": "execute_result"
    }
   ],
   "source": [
    "w, b, cost, cost_list, epoch_list = batch_gradient_descent(scaled_X,scaled_y.reshape(scaled_y.shape[0],),500)\n",
    "cost_list"
   ]
  },
  {
   "cell_type": "code",
   "execution_count": 431,
   "id": "e027eea4",
   "metadata": {},
   "outputs": [],
   "source": [
    "def graph(epoch_list,cost_list,title):\n",
    "    plt.title(title)\n",
    "    plt.xlabel(\"epoch\")\n",
    "    plt.ylabel(\"cost\")\n",
    "    plt.plot(epoch_list,cost_list)"
   ]
  },
  {
   "cell_type": "code",
   "execution_count": 432,
   "id": "aa371f5b",
   "metadata": {},
   "outputs": [
    {
     "data": {
      "image/png": "[encoded data removed]",
      "text/plain": [
       "<Figure size 432x288 with 1 Axes>"
      ]
     },
     "metadata": {
      "needs_background": "light"
     },
     "output_type": "display_data"
    }
   ],
   "source": [
    "graph(epoch_list,cost_list,\"Batch Gradient Descent\")"
   ]
  },
  {
   "cell_type": "code",
   "execution_count": 433,
   "id": "6e898285",
   "metadata": {},
   "outputs": [],
   "source": [
    "def predict(area,bedrooms,w,b):\n",
    "    scaled_X = sx.transform([[area,bedrooms]])[0]\n",
    "    scaled_price = w[0] * scaled_X[0] + w[1] * scaled_X[1] + b\n",
    "    return sy.inverse_transform([[scaled_price]])[0][0]"
   ]
  },
  {
   "cell_type": "code",
   "execution_count": 434,
   "id": "0f9ff98f",
   "metadata": {},
   "outputs": [
    {
     "data": {
      "text/plain": [
       "(20, 2)"
      ]
     },
     "execution_count": 434,
     "metadata": {},
     "output_type": "execute_result"
    }
   ],
   "source": [
    "scaled_X.shape"
   ]
  },
  {
   "cell_type": "code",
   "execution_count": 435,
   "id": "1dec3a65",
   "metadata": {},
   "outputs": [
    {
     "name": "stderr",
     "output_type": "stream",
     "text": [
      "C:\\Users\\User\\anaconda3\\lib\\site-packages\\sklearn\\base.py:450: UserWarning: X does not have valid feature names, but MinMaxScaler was fitted with feature names\n",
      "  warnings.warn(\n"
     ]
    },
    {
     "data": {
      "text/plain": [
       "32.0964952553193"
      ]
     },
     "execution_count": 435,
     "metadata": {},
     "output_type": "execute_result"
    }
   ],
   "source": [
    "predict(1056,2,w,b)"
   ]
  },
  {
   "cell_type": "code",
   "execution_count": 436,
   "id": "044302be",
   "metadata": {},
   "outputs": [],
   "source": [
    "def stochastic_gd(X,y_true,epochs,learning_rate=0.1):\n",
    "    number_of_features = X.shape[1]\n",
    "    w = np.ones(number_of_features)\n",
    "    b = 0\n",
    "    number_of_samples =X.shape[0]\n",
    "    cost_list = []\n",
    "    epoch_list = []\n",
    "    for i in range(epochs):   \n",
    "        random_index = random.randint(0,number_of_samples-1)\n",
    "        sample_X = X[random_index]\n",
    "        sample_y = y_true[random_index]\n",
    "        y_predicted = np.dot(w,sample_X)+b\n",
    "        \n",
    "        wd =-(2/number_of_samples)*np.dot((sample_y-y_predicted),sample_X)\n",
    "        bd = -2*np.mean(sample_y-y_predicted)\n",
    "        \n",
    "        w =w -learning_rate*wd\n",
    "        b = b - learning_rate*b\n",
    "        \n",
    "        cost = np.mean(np.square(sample_y-y_predicted))\n",
    "        if i%100==0:\n",
    "            cost_list.append(cost)\n",
    "            epoch_list.append(i)\n",
    "    return w, b,cost,cost_list,epoch_list\n",
    "\n",
    "       \n",
    "\n"
   ]
  },
  {
   "cell_type": "code",
   "execution_count": 437,
   "id": "a0041c7a",
   "metadata": {},
   "outputs": [],
   "source": [
    "w_sgd,b_sgd,cost,cost_list_sgd,epoch_list_sgd= stochastic_gd(scaled_X,scaled_y.reshape(scaled_y.shape[0],),10000)\n"
   ]
  },
  {
   "cell_type": "code",
   "execution_count": 438,
   "id": "7d17fdfe",
   "metadata": {},
   "outputs": [
    {
     "data": {
      "image/png": "[encoded data removed]",
      "text/plain": [
       "<Figure size 432x288 with 1 Axes>"
      ]
     },
     "metadata": {
      "needs_background": "light"
     },
     "output_type": "display_data"
    }
   ],
   "source": [
    "graph(epoch_list_sgd,cost_list_sgd,\"Stochastic Gradient Descent\")"
   ]
  },
  {
   "cell_type": "code",
   "execution_count": 439,
   "id": "fce3f986",
   "metadata": {},
   "outputs": [
    {
     "data": {
      "text/plain": [
       "array([15, 17,  5,  2, 14,  7,  4,  1, 10, 19,  6,  3,  0,  8, 11,  9, 18,\n",
       "       13, 12, 16])"
      ]
     },
     "execution_count": 439,
     "metadata": {},
     "output_type": "execute_result"
    }
   ],
   "source": [
    "np.random.permutation(20)"
   ]
  },
  {
   "cell_type": "code",
   "execution_count": 440,
   "id": "3ab02581",
   "metadata": {},
   "outputs": [
    {
     "data": {
      "text/plain": [
       "array([[0.25517241, 0.5       ],\n",
       "       [0.06896552, 0.25      ],\n",
       "       [0.10344828, 0.25      ],\n",
       "       [0.22068966, 0.5       ],\n",
       "       [0.34482759, 0.5       ],\n",
       "       [0.24862069, 0.5       ],\n",
       "       [0.        , 0.        ],\n",
       "       [0.17586207, 0.5       ],\n",
       "       [1.        , 1.        ],\n",
       "       [0.6662069 , 0.75      ],\n",
       "       [0.86206897, 0.75      ],\n",
       "       [0.12931034, 0.25      ],\n",
       "       [0.68448276, 0.75      ],\n",
       "       [0.67931034, 0.5       ],\n",
       "       [0.13103448, 0.5       ],\n",
       "       [0.08827586, 0.25      ],\n",
       "       [0.62068966, 0.75      ],\n",
       "       [0.12758621, 0.25      ],\n",
       "       [0.13793103, 0.25      ],\n",
       "       [0.5       , 0.5       ]])"
      ]
     },
     "execution_count": 440,
     "metadata": {},
     "output_type": "execute_result"
    }
   ],
   "source": [
    "scaled_X[np.random.permutation(20)]"
   ]
  },
  {
   "cell_type": "code",
   "execution_count": 441,
   "id": "cf9c979b",
   "metadata": {},
   "outputs": [
    {
     "name": "stderr",
     "output_type": "stream",
     "text": [
      "C:\\Users\\User\\anaconda3\\lib\\site-packages\\sklearn\\base.py:450: UserWarning: X does not have valid feature names, but MinMaxScaler was fitted with feature names\n",
      "  warnings.warn(\n"
     ]
    },
    {
     "data": {
      "text/plain": [
       "46.12468051846625"
      ]
     },
     "execution_count": 441,
     "metadata": {},
     "output_type": "execute_result"
    }
   ],
   "source": [
    "predict(1056,2,w_sgd,b_sgd)"
   ]
  },
  {
   "cell_type": "code",
   "execution_count": 442,
   "id": "e2cb6797",
   "metadata": {},
   "outputs": [],
   "source": [
    "def mini_batch_gradient_descent(X,y_true,epochs =100 ,batch_size = 5 ,learning_rate =0.01):\n",
    "    number_of_features = X.shape[1]\n",
    "    w = np.ones(shape=(number_of_features)) \n",
    "    b = 0\n",
    "    total_samples = X.shape[0] # number of rows in X\n",
    "    if batch_size > total_samples:\n",
    "        batch_size =total_samples\n",
    "    cost_list = []\n",
    "    epoch_list = []\n",
    "    \n",
    "    for i in range(epochs):\n",
    "        random_indices = np.random.permutation(total_samples)\n",
    "        X_tmp = X[random_indices]\n",
    "        y_tmp = y_true[random_indices]\n",
    "        for j in range(0,total_samples,batch_size):\n",
    "            Xj = X_tmp[j:j+batch_size]\n",
    "            yj = y_tmp[j:j+batch_size]\n",
    "            y_predicted = np.dot(w,Xj.T)+b\n",
    "            w_grad = -(2/len(Xj))*(Xj.T.dot(yj-y_predicted))\n",
    "            b_grad = -(2/len(Xj))*(np.sum(yj-y_predicted))\n",
    "            w = w-learning_rate*w_grad\n",
    "            b = b-learning_rate*b_grad\n",
    "            \n",
    "            cost = np.mean(np.square(yj-y_predicted))\n",
    "        if i%10==0:\n",
    "            cost_list.append(cost)\n",
    "            epoch_list.append(i)\n",
    "    return w,b,cost,cost_list,epoch_list\n",
    "            \n",
    "    "
   ]
  },
  {
   "cell_type": "code",
   "execution_count": 443,
   "id": "8ab1ea22",
   "metadata": {},
   "outputs": [
    {
     "data": {
      "text/plain": [
       "[0.3131744762109976,\n",
       " 0.08190213324859388,\n",
       " 0.004652233547556651,\n",
       " 0.02189189093694039,\n",
       " 0.003744960932501979,\n",
       " 0.005048897032315206,\n",
       " 0.007937015542982843,\n",
       " 0.004159342113522778,\n",
       " 0.0036949158589769495,\n",
       " 0.004193346173793556,\n",
       " 0.016332850117154258,\n",
       " 0.01268508354806105]"
      ]
     },
     "execution_count": 443,
     "metadata": {},
     "output_type": "execute_result"
    }
   ],
   "source": [
    "w_mbgd, b_mbgd, cost_mbgd, cost_list_mbgd, epoch_list_mbgd = mini_batch_gradient_descent(\n",
    "    scaled_X,\n",
    "    scaled_y.reshape(scaled_y.shape[0],),\n",
    "    epochs = 120,\n",
    "    batch_size = 5\n",
    ")\n",
    "cost_list_mbgd"
   ]
  },
  {
   "cell_type": "code",
   "execution_count": 444,
   "id": "c7f3bf43",
   "metadata": {},
   "outputs": [
    {
     "data": {
      "image/png": "[encoded data removed]",
      "text/plain": [
       "<Figure size 432x288 with 1 Axes>"
      ]
     },
     "metadata": {
      "needs_background": "light"
     },
     "output_type": "display_data"
    }
   ],
   "source": [
    "graph(epoch_list_mbgd,cost_list_mbgd,\"Mini Batch Gradient Descent\")"
   ]
  },
  {
   "cell_type": "code",
   "execution_count": 445,
   "id": "c65a135e",
   "metadata": {},
   "outputs": [
    {
     "name": "stderr",
     "output_type": "stream",
     "text": [
      "C:\\Users\\User\\anaconda3\\lib\\site-packages\\sklearn\\base.py:450: UserWarning: X does not have valid feature names, but MinMaxScaler was fitted with feature names\n",
      "  warnings.warn(\n"
     ]
    },
    {
     "data": {
      "text/plain": [
       "31.833418063200355"
      ]
     },
     "execution_count": 445,
     "metadata": {},
     "output_type": "execute_result"
    }
   ],
   "source": [
    "predict(1056,2,w_mbgd, b_mbgd)"
   ]
  }
 ],
 "metadata": {
  "kernelspec": {
   "display_name": "Python 3 (ipykernel)",
   "language": "python",
   "name": "python3"
  },
  "language_info": {
   "codemirror_mode": {
    "name": "ipython",
    "version": 3
   },
   "file_extension": ".py",
   "mimetype": "text/x-python",
   "name": "python",
   "nbconvert_exporter": "python",
   "pygments_lexer": "ipython3",
   "version": "3.9.12"
  }
 },
 "nbformat": 4,
 "nbformat_minor": 5
}
