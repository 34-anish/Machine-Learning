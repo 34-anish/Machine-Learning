{
 "cells": [
  {
   "cell_type": "code",
   "execution_count": 2,
   "id": "89340636",
   "metadata": {},
   "outputs": [],
   "source": [
    "import pandas as pd\n",
    "import numpy as np\n",
    "import matplotlib.pyplot as plt\n",
    "%matplotlib inline"
   ]
  },
  {
   "cell_type": "code",
   "execution_count": 33,
   "id": "c1b24c5a",
   "metadata": {},
   "outputs": [
    {
     "data": {
      "text/plain": [
       "(    area  bedrooms  price\n",
       " 15  1175         2   42.0\n",
       " 16  1180         3   48.0\n",
       " 17  1540         3   60.0\n",
       " 18  2770         3  102.0\n",
       " 19   800         1   32.0,\n",
       " area        1800.0\n",
       " bedrooms       3.0\n",
       " price         82.0\n",
       " Name: 10, dtype: float64)"
      ]
     },
     "execution_count": 33,
     "metadata": {},
     "output_type": "execute_result"
    }
   ],
   "source": [
    "df = pd.read_csv('Data/homeprices_banglore.csv')\n",
    "df.tail(),df.iloc[10]"
   ]
  },
  {
   "cell_type": "code",
   "execution_count": 35,
   "id": "aa3c469a",
   "metadata": {},
   "outputs": [],
   "source": [
    "def minmaxscaler(df):\n",
    "    return (df-min(df))/(max(df)-min(df))"
   ]
  },
  {
   "cell_type": "code",
   "execution_count": 41,
   "id": "850fdcc1",
   "metadata": {},
   "outputs": [
    {
     "data": {
      "text/html": [
       "<div>\n",
       "<style scoped>\n",
       "    .dataframe tbody tr th:only-of-type {\n",
       "        vertical-align: middle;\n",
       "    }\n",
       "\n",
       "    .dataframe tbody tr th {\n",
       "        vertical-align: top;\n",
       "    }\n",
       "\n",
       "    .dataframe thead th {\n",
       "        text-align: right;\n",
       "    }\n",
       "</style>\n",
       "<table border=\"1\" class=\"dataframe\">\n",
       "  <thead>\n",
       "    <tr style=\"text-align: right;\">\n",
       "      <th></th>\n",
       "      <th>area</th>\n",
       "      <th>bedrooms</th>\n",
       "      <th>price</th>\n",
       "    </tr>\n",
       "  </thead>\n",
       "  <tbody>\n",
       "    <tr>\n",
       "      <th>0</th>\n",
       "      <td>0.088276</td>\n",
       "      <td>0.25</td>\n",
       "      <td>0.052370</td>\n",
       "    </tr>\n",
       "    <tr>\n",
       "      <th>1</th>\n",
       "      <td>0.620690</td>\n",
       "      <td>0.75</td>\n",
       "      <td>0.651852</td>\n",
       "    </tr>\n",
       "    <tr>\n",
       "      <th>2</th>\n",
       "      <td>0.220690</td>\n",
       "      <td>0.50</td>\n",
       "      <td>0.222222</td>\n",
       "    </tr>\n",
       "    <tr>\n",
       "      <th>3</th>\n",
       "      <td>0.248621</td>\n",
       "      <td>0.50</td>\n",
       "      <td>0.318519</td>\n",
       "    </tr>\n",
       "    <tr>\n",
       "      <th>4</th>\n",
       "      <td>0.137931</td>\n",
       "      <td>0.25</td>\n",
       "      <td>0.140741</td>\n",
       "    </tr>\n",
       "  </tbody>\n",
       "</table>\n",
       "</div>"
      ],
      "text/plain": [
       "       area  bedrooms     price\n",
       "0  0.088276      0.25  0.052370\n",
       "1  0.620690      0.75  0.651852\n",
       "2  0.220690      0.50  0.222222\n",
       "3  0.248621      0.50  0.318519\n",
       "4  0.137931      0.25  0.140741"
      ]
     },
     "execution_count": 41,
     "metadata": {},
     "output_type": "execute_result"
    }
   ],
   "source": [
    "df['area'] = minmaxscaler(df['area'])\n",
    "df['bedrooms'] = minmaxscaler(df['bedrooms'])\n",
    "df['price'] = minmaxscaler(df['price'])\n",
    "df.head()"
   ]
  },
  {
   "cell_type": "code",
   "execution_count": 44,
   "id": "334a47c5",
   "metadata": {},
   "outputs": [],
   "source": [
    "from sklearn.model_selection import train_test_split\n",
    "X=df.drop('price',axis='columns')\n",
    "y=df['price']\n",
    "X_train, X_test, y_train, y_test = train_test_split(X, y, test_size=0.33, random_state=42)"
   ]
  },
  {
   "cell_type": "code",
   "execution_count": 83,
   "id": "ad0c3ad1",
   "metadata": {},
   "outputs": [],
   "source": [
    "def sigmoid(y):\n",
    "    return 1/1+np.exp(-y)\n",
    "\n",
    "def gradient_descent(X,y_true,epochs):\n",
    "    w1=w2=1\n",
    "    bias=0\n",
    "    rate=0.5\n",
    "    area = X_train['area']\n",
    "    bedrooms = X_train['bedrooms']\n",
    "    n = len(area)\n",
    "    cost_list = []\n",
    "    epoch_list = []\n",
    "    for i in range(epochs):\n",
    "        weighted_sum = area*w1+bedrooms*w2+bias\n",
    "        y_pred = sigmoid(weighted_sum)\n",
    "        w1d =-2/n*np.mean(np.dot(area,(y_true-y_pred)))\n",
    "        w1 = w1-rate*w1d\n",
    "        w2d =-2/n*np.mean(np.dot(bedrooms,(y_true-y_pred)))\n",
    "        w2 = w2-rate*w2d\n",
    "        bd=-2/n*np.mean((y_true-y_pred))\n",
    "        bias = bias-rate*bd\n",
    "        cost = np.mean((y_true - y_pred)**2)\n",
    "        if i % 10 == 0:\n",
    "            print(i, y_pred)\n",
    "            cost_list.append(cost)\n",
    "            epoch_list.append(i)\n",
    "    return w1,w2,bias,cost,cost_list,epoch_list\n",
    "    "
   ]
  },
  {
   "cell_type": "code",
   "execution_count": 56,
   "id": "dcbbfffc",
   "metadata": {},
   "outputs": [
    {
     "data": {
      "text/plain": [
       "3     0.248621\n",
       "18    0.679310\n",
       "16    0.131034\n",
       "13    0.103448\n",
       "2     0.220690\n",
       "9     1.000000\n",
       "19    0.000000\n",
       "4     0.137931\n",
       "12    0.068966\n",
       "7     0.862069\n",
       "10    0.344828\n",
       "14    0.500000\n",
       "6     0.666207\n",
       "Name: area, dtype: float64"
      ]
     },
     "execution_count": 56,
     "metadata": {},
     "output_type": "execute_result"
    }
   ],
   "source": [
    "X_train['area']"
   ]
  },
  {
   "cell_type": "code",
   "execution_count": 84,
   "id": "f91d243f",
   "metadata": {},
   "outputs": [
    {
     "name": "stdout",
     "output_type": "stream",
     "text": [
      "0 3     1.473019\n",
      "18    1.307491\n",
      "16    1.532041\n",
      "13    1.702262\n",
      "2     1.486417\n",
      "9     1.135335\n",
      "19    2.000000\n",
      "4     1.678459\n",
      "12    1.726901\n",
      "7     1.199474\n",
      "10    1.429631\n",
      "14    1.367879\n",
      "6     1.242633\n",
      "dtype: float64\n",
      "10 3    NaN\n",
      "18   NaN\n",
      "16   NaN\n",
      "13   NaN\n",
      "2    NaN\n",
      "9    NaN\n",
      "19   NaN\n",
      "4    NaN\n",
      "12   NaN\n",
      "7    NaN\n",
      "10   NaN\n",
      "14   NaN\n",
      "6    NaN\n",
      "dtype: float64\n",
      "20 3    NaN\n",
      "18   NaN\n",
      "16   NaN\n",
      "13   NaN\n",
      "2    NaN\n",
      "9    NaN\n",
      "19   NaN\n",
      "4    NaN\n",
      "12   NaN\n",
      "7    NaN\n",
      "10   NaN\n",
      "14   NaN\n",
      "6    NaN\n",
      "dtype: float64\n",
      "30 3    NaN\n",
      "18   NaN\n",
      "16   NaN\n",
      "13   NaN\n",
      "2    NaN\n",
      "9    NaN\n",
      "19   NaN\n",
      "4    NaN\n",
      "12   NaN\n",
      "7    NaN\n",
      "10   NaN\n",
      "14   NaN\n",
      "6    NaN\n",
      "dtype: float64\n",
      "40 3    NaN\n",
      "18   NaN\n",
      "16   NaN\n",
      "13   NaN\n",
      "2    NaN\n",
      "9    NaN\n",
      "19   NaN\n",
      "4    NaN\n",
      "12   NaN\n",
      "7    NaN\n",
      "10   NaN\n",
      "14   NaN\n",
      "6    NaN\n",
      "dtype: float64\n"
     ]
    }
   ],
   "source": [
    "w1,w2, b, cost, cost_list, epoch_list = gradient_descent(X_train,y_train,50)\n"
   ]
  },
  {
   "cell_type": "code",
   "execution_count": 79,
   "id": "da07a746",
   "metadata": {},
   "outputs": [
    {
     "data": {
      "text/plain": [
       "([1.5103011462102154, nan, nan, nan, nan], [0, 10, 20, 30, 40])"
      ]
     },
     "execution_count": 79,
     "metadata": {},
     "output_type": "execute_result"
    }
   ],
   "source": [
    "cost_list, epoch_list"
   ]
  },
  {
   "cell_type": "code",
   "execution_count": 71,
   "id": "3cdd6b3a",
   "metadata": {},
   "outputs": [
    {
     "data": {
      "text/plain": [
       "<matplotlib.collections.PathCollection at 0x22dbec2bf10>"
      ]
     },
     "execution_count": 71,
     "metadata": {},
     "output_type": "execute_result"
    },
    {
     "data": {
      "image/png": "[encoded data removed]",
      "text/plain": [
       "<Figure size 432x288 with 1 Axes>"
      ]
     },
     "metadata": {
      "needs_background": "light"
     },
     "output_type": "display_data"
    }
   ],
   "source": [
    "plt.xlabel(\"epoch\")\n",
    "plt.ylabel(\"cost\")\n",
    "plt.scatter(epoch_list,cost_list)"
   ]
  },
  {
   "cell_type": "code",
   "execution_count": 60,
   "id": "ba4f5910",
   "metadata": {},
   "outputs": [
    {
     "ename": "TypeError",
     "evalue": "gradient_descent() takes 3 positional arguments but 4 were given",
     "output_type": "error",
     "traceback": [
      "\u001b[1;31m---------------------------------------------------------------------------\u001b[0m",
      "\u001b[1;31mTypeError\u001b[0m                                 Traceback (most recent call last)",
      "Input \u001b[1;32mIn [60]\u001b[0m, in \u001b[0;36m<cell line: 1>\u001b[1;34m()\u001b[0m\n\u001b[1;32m----> 1\u001b[0m \u001b[43mgradient_descent\u001b[49m\u001b[43m(\u001b[49m\u001b[43mX_train\u001b[49m\u001b[43m[\u001b[49m\u001b[38;5;124;43m'\u001b[39;49m\u001b[38;5;124;43marea\u001b[39;49m\u001b[38;5;124;43m'\u001b[39;49m\u001b[43m]\u001b[49m\u001b[43m,\u001b[49m\u001b[43mX_train\u001b[49m\u001b[43m[\u001b[49m\u001b[38;5;124;43m'\u001b[39;49m\u001b[38;5;124;43mbedrooms\u001b[39;49m\u001b[38;5;124;43m'\u001b[39;49m\u001b[43m]\u001b[49m\u001b[43m,\u001b[49m\u001b[43my_train\u001b[49m\u001b[43m,\u001b[49m\u001b[38;5;241;43m100\u001b[39;49m\u001b[43m)\u001b[49m\n",
      "\u001b[1;31mTypeError\u001b[0m: gradient_descent() takes 3 positional arguments but 4 were given"
     ]
    }
   ],
   "source": [
    "gradient_descent(X_train['area'],X_train['bedrooms'],y_train,100)"
   ]
  }
 ],
 "metadata": {
  "kernelspec": {
   "display_name": "Python 3 (ipykernel)",
   "language": "python",
   "name": "python3"
  },
  "language_info": {
   "codemirror_mode": {
    "name": "ipython",
    "version": 3
   },
   "file_extension": ".py",
   "mimetype": "text/x-python",
   "name": "python",
   "nbconvert_exporter": "python",
   "pygments_lexer": "ipython3",
   "version": "3.9.12"
  }
 },
 "nbformat": 4,
 "nbformat_minor": 5
}
