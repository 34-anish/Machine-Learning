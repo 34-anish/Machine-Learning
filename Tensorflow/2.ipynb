{
 "cells": [
  {
   "attachments": {},
   "cell_type": "markdown",
   "metadata": {},
   "source": []
  },
  {
   "cell_type": "code",
   "execution_count": 32,
   "metadata": {},
   "outputs": [],
   "source": [
    "import tensorflow as tf\n",
    "from tensorflow import keras\n",
    "import numpy as np\n",
    "import matplotlib.pyplot as plt"
   ]
  },
  {
   "cell_type": "code",
   "execution_count": 36,
   "metadata": {},
   "outputs": [],
   "source": [
    "(X_train,y_train),(X_test,y_test) = tf.keras.datasets.fashion_mnist.load_data()"
   ]
  },
  {
   "cell_type": "code",
   "execution_count": 46,
   "metadata": {},
   "outputs": [
    {
     "name": "stdout",
     "output_type": "stream",
     "text": [
      "image's array :\n",
      " [[  0   0   0   0   0   0   0   0   0  20 111  60   0   0   0   0   0  74  90   6   0   0   0   0   0   0   0   0]\n",
      " [  0   0   0   0   1   0   0  55 131 156 147 202 171 175 159 164 176 185 140 159 114  43   0   0   0   0   0   0]\n",
      " [  0   0   0   0   0   0  76 157 126 138 121 135 157 156 171 159 152 112 130 109 124 164  65   0   0   0   0   0]\n",
      " [  0   0   0   0   0   0 128 102 111 107 157 131 168 161 192 166 142 145 131 112 104 112 123   0   0   0   0   0]\n",
      " [  0   0   0   0   0  43 124 100 107  95 126 126 133 189 149 178 121 117 114 109 112 112 131  10   0   0   0   0]\n",
      " [  0   0   0   0   0  83 119 109 102 100  95 119  93 150 175 121  98 107 102 102 114 111 126  46   0   0   0   0]\n",
      " [  0   0   0   0   0 109 111 117  97  95  97  97 100  93 124  91 104 109 100 102 111 116 124  88   0   0   0   0]\n",
      " [  0   0   0   0   0 123 102 130  98  85  90  95 102 100  88 100 104 100 100 104 111 133 102 133   0   0   0   0]\n",
      " [  0   0   0   0  19 135 100 149 107  76  90  93  97  95  97  97  97  95  97  91 123 154  86 149  10   0   0   0]\n",
      " [  0   0   0   0  64 145 107 152 123  65  86  90  91  90  91  91  90  91  95  85 123 159  98 152  85   0   0   0]\n",
      " [  0   0   0   0  71 170 121 170 161  58  91  88  95  90  90  95  91  86  95  86 131 176 123 143  78   0   0   0]\n",
      " [  0   0   0   0   0  38 117 204 170  67  90  86  95  90  88  95  88  85  97  83 133 190  78   0   0   0   0   0]\n",
      " [  0   0   0   0   0   0   0  85  32  88  90  85  93  90  88  95  90  85  95  85 133  22   0   0   0   0   0   0]\n",
      " [  0   0   0   0   0   0   0   0   8 114  88  83  95  88  86  93  85  83  97  85 138   0   0   1   0   0   0   0]\n",
      " [  0   0   0   0   0   0   1   0  32 114  93  79  98  90  86  98  78  83 100  81 149   6   0   0   0   0   0   0]\n",
      " [  0   0   0   0   0   0   1   0  38 114  93  79  97  90  88 111  74  85 102  78 147  15   0   1   0   0   0   0]\n",
      " [  0   0   0   0   0   0   0   0  45 111  95  78  97  90  91 124  74  85 104  78 137  34   0   5   0   0   0   0]\n",
      " [  0   0   0   0   0   0   0   0  71 117  95  81 104  85  91 131  78  88 107  79 135  58   0   1   0   0   0   0]\n",
      " [  0   0   0   0   0   0   0   0  74 121  97  85 105  86  91 149  81  93 111  85 128  67   0   0   0   0   0   0]\n",
      " [  0   0   0   0   0   0   0   0  78 123  95  88 109  91  85 163  74  97 116  90 123  85   0   1   0   0   0   0]\n",
      " [  0   0   0   0   0   0   0   0  93 119  98  91 107  95  88 182  81 100 123  91 119  86   0   3   0   0   0   0]\n",
      " [  0   0   0   0   0   1   0   0 100 114 105  95 107 102  90 197  83 105 130  90 128  85   0   1   0   0   0   0]\n",
      " [  0   0   0   0   0   0   0   0 100 126 114 100 112  95  88 215  86 116 138  95 142  91   0   0   0   0   0   0]\n",
      " [  0   0   0   0   0   0   0   0 100 112 105  90  98  72  71 227  78 102 147  95 133  79   0   1   0   0   0   0]\n",
      " [  0   0   0   0   0   0   0   0 107 171 145 131 147 154 185 242 149 171 185 135 149  57   0   5   0   0   0   0]\n",
      " [  0   0   0   0   0   0   1   0   0 157 178 166 182 171 194 237 163 168 163 180 159   0   0   1   0   0   0   0]\n",
      " [  0   0   0   0   0   0   0   0   0   5 133 187 199 170 201 255 178 197 192 142  13   0   0   1   0   0   0   0]\n",
      " [  0   0   0   0   0   0   0   0   0   0   0  15  85 114 147 170 104  91  17   0   0   0   0   0   0   0   0   0]]\n",
      "image's label is:\n",
      " 0\n"
     ]
    },
    {
     "data": {
      "text/plain": [
       "<matplotlib.image.AxesImage at 0x295c701b1f0>"
      ]
     },
     "execution_count": 46,
     "metadata": {},
     "output_type": "execute_result"
    },
    {
     "data": {
      "image/png": "[encoded data removed]",
      "text/plain": [
       "<Figure size 640x480 with 1 Axes>"
      ]
     },
     "metadata": {},
     "output_type": "display_data"
    }
   ],
   "source": [
    "index = 6969\n",
    "print(f\"image's array :\\n {X_train[index]}\")\n",
    "print(f\"image's label is:\\n {y_train[index]}\")\n",
    "plt.imshow(X_train[index])"
   ]
  },
  {
   "cell_type": "code",
   "execution_count": 73,
   "metadata": {},
   "outputs": [],
   "source": [
    "class myCallback(tf.keras.callbacks.Callback):\n",
    "  def on_epoch_end(self, epoch, logs={}):\n",
    "    if(logs.get('accuracy') >= 0.8): # Experiment with changing this value\n",
    "      print(\"\\nReached 60% accuracy so cancelling training!\")\n",
    "      self.model.stop_training = True\n",
    "callbacks = myCallback()      \n"
   ]
  },
  {
   "cell_type": "code",
   "execution_count": 74,
   "metadata": {},
   "outputs": [
    {
     "data": {
      "text/plain": [
       "array([[  0,   0,   0,   0,   0,   0,   0,   0,   0,   0,   0,   0,   0,   0,   0,   0,   0,   0,   0,   0,   0,   0,   0,   0,   0,   0,   0,   0],\n",
       "       [  0,   0,   0,   0,   0,   0,   0,   0,   0,   0,   0,   0,   0,   0,   0,   0,   0,   0,   0,   0,   0,   0,   0,   0,   0,   0,   0,   0],\n",
       "       [  0,   0,   0,   0,   0,   0,   0,   0,   0,   0,   0,   0,   0,   0,   0,   0,   0,   0,   0,   0,   0,   0,   0,   0,   0,   0,   0,   0],\n",
       "       [  0,   0,   0,   0,   0,   0,   0,   0,   0,   0,   0,   0,   1,   0,   0,  13,  73,   0,   0,   1,   4,   0,   0,   0,   0,   1,   1,   0],\n",
       "       [  0,   0,   0,   0,   0,   0,   0,   0,   0,   0,   0,   0,   3,   0,  36, 136, 127,  62,  54,   0,   0,   0,   1,   3,   4,   0,   0,   3],\n",
       "       [  0,   0,   0,   0,   0,   0,   0,   0,   0,   0,   0,   0,   6,   0, 102, 204, 176, 134, 144, 123,  23,   0,   0,   0,   0,  12,  10,   0],\n",
       "       [  0,   0,   0,   0,   0,   0,   0,   0,   0,   0,   0,   0,   0,   0, 155, 236, 207, 178, 107, 156, 161, 109,  64,  23,  77, 130,  72,  15],\n",
       "       [  0,   0,   0,   0,   0,   0,   0,   0,   0,   0,   0,   1,   0,  69, 207, 223, 218, 216, 216, 163, 127, 121, 122, 146, 141,  88, 172,  66],\n",
       "       [  0,   0,   0,   0,   0,   0,   0,   0,   0,   1,   1,   1,   0, 200, 232, 232, 233, 229, 223, 223, 215, 213, 164, 127, 123, 196, 229,   0],\n",
       "       [  0,   0,   0,   0,   0,   0,   0,   0,   0,   0,   0,   0,   0, 183, 225, 216, 223, 228, 235, 227, 224, 222, 224, 221, 223, 245, 173,   0],\n",
       "       [  0,   0,   0,   0,   0,   0,   0,   0,   0,   0,   0,   0,   0, 193, 228, 218, 213, 198, 180, 212, 210, 211, 213, 223, 220, 243, 202,   0],\n",
       "       [  0,   0,   0,   0,   0,   0,   0,   0,   0,   1,   3,   0,  12, 219, 220, 212, 218, 192, 169, 227, 208, 218, 224, 212, 226, 197, 209,  52],\n",
       "       [  0,   0,   0,   0,   0,   0,   0,   0,   0,   0,   6,   0,  99, 244, 222, 220, 218, 203, 198, 221, 215, 213, 222, 220, 245, 119, 167,  56],\n",
       "       [  0,   0,   0,   0,   0,   0,   0,   0,   0,   4,   0,   0,  55, 236, 228, 230, 228, 240, 232, 213, 218, 223, 234, 217, 217, 209,  92,   0],\n",
       "       [  0,   0,   1,   4,   6,   7,   2,   0,   0,   0,   0,   0, 237, 226, 217, 223, 222, 219, 222, 221, 216, 223, 229, 215, 218, 255,  77,   0],\n",
       "       [  0,   3,   0,   0,   0,   0,   0,   0,   0,  62, 145, 204, 228, 207, 213, 221, 218, 208, 211, 218, 224, 223, 219, 215, 224, 244, 159,   0],\n",
       "       [  0,   0,   0,   0,  18,  44,  82, 107, 189, 228, 220, 222, 217, 226, 200, 205, 211, 230, 224, 234, 176, 188, 250, 248, 233, 238, 215,   0],\n",
       "       [  0,  57, 187, 208, 224, 221, 224, 208, 204, 214, 208, 209, 200, 159, 245, 193, 206, 223, 255, 255, 221, 234, 221, 211, 220, 232, 246,   0],\n",
       "       [  3, 202, 228, 224, 221, 211, 211, 214, 205, 205, 205, 220, 240,  80, 150, 255, 229, 221, 188, 154, 191, 210, 204, 209, 222, 228, 225,   0],\n",
       "       [ 98, 233, 198, 210, 222, 229, 229, 234, 249, 220, 194, 215, 217, 241,  65,  73, 106, 117, 168, 219, 221, 215, 217, 223, 223, 224, 229,  29],\n",
       "       [ 75, 204, 212, 204, 193, 205, 211, 225, 216, 185, 197, 206, 198, 213, 240, 195, 227, 245, 239, 223, 218, 212, 209, 222, 220, 221, 230,  67],\n",
       "       [ 48, 203, 183, 194, 213, 197, 185, 190, 194, 192, 202, 214, 219, 221, 220, 236, 225, 216, 199, 206, 186, 181, 177, 172, 181, 205, 206, 115],\n",
       "       [  0, 122, 219, 193, 179, 171, 183, 196, 204, 210, 213, 207, 211, 210, 200, 196, 194, 191, 195, 191, 198, 192, 176, 156, 167, 177, 210,  92],\n",
       "       [  0,   0,  74, 189, 212, 191, 175, 172, 175, 181, 185, 188, 189, 188, 193, 198, 204, 209, 210, 210, 211, 188, 188, 194, 192, 216, 170,   0],\n",
       "       [  2,   0,   0,   0,  66, 200, 222, 237, 239, 242, 246, 243, 244, 221, 220, 193, 191, 179, 182, 182, 181, 176, 166, 168,  99,  58,   0,   0],\n",
       "       [  0,   0,   0,   0,   0,   0,   0,  40,  61,  44,  72,  41,  35,   0,   0,   0,   0,   0,   0,   0,   0,   0,   0,   0,   0,   0,   0,   0],\n",
       "       [  0,   0,   0,   0,   0,   0,   0,   0,   0,   0,   0,   0,   0,   0,   0,   0,   0,   0,   0,   0,   0,   0,   0,   0,   0,   0,   0,   0],\n",
       "       [  0,   0,   0,   0,   0,   0,   0,   0,   0,   0,   0,   0,   0,   0,   0,   0,   0,   0,   0,   0,   0,   0,   0,   0,   0,   0,   0,   0]], dtype=uint8)"
      ]
     },
     "execution_count": 74,
     "metadata": {},
     "output_type": "execute_result"
    }
   ],
   "source": [
    "(X_train,y_train),(X_test,y_test)=tf.keras.datasets.fashion_mnist.load_data()\n",
    "X_train[0]"
   ]
  },
  {
   "cell_type": "code",
   "execution_count": 75,
   "metadata": {},
   "outputs": [
    {
     "data": {
      "text/plain": [
       "array([[0.        , 0.        , 0.        , 0.        , 0.        , 0.        , 0.        , 0.        , 0.        , 0.        , 0.        , 0.        , 0.        , 0.        , 0.        , 0.        , 0.        , 0.        , 0.        , 0.        , 0.        , 0.        , 0.        , 0.        , 0.        ,\n",
       "        0.        , 0.        , 0.        ],\n",
       "       [0.        , 0.        , 0.        , 0.        , 0.        , 0.        , 0.        , 0.        , 0.        , 0.        , 0.        , 0.        , 0.        , 0.        , 0.        , 0.        , 0.        , 0.        , 0.        , 0.        , 0.        , 0.        , 0.        , 0.        , 0.        ,\n",
       "        0.        , 0.        , 0.        ],\n",
       "       [0.        , 0.        , 0.        , 0.        , 0.        , 0.        , 0.        , 0.        , 0.        , 0.        , 0.        , 0.        , 0.        , 0.        , 0.        , 0.        , 0.        , 0.        , 0.        , 0.        , 0.        , 0.        , 0.        , 0.        , 0.        ,\n",
       "        0.        , 0.        , 0.        ],\n",
       "       [0.        , 0.        , 0.        , 0.        , 0.        , 0.        , 0.        , 0.        , 0.        , 0.        , 0.        , 0.        , 0.00392157, 0.        , 0.        , 0.05098039, 0.28627451, 0.        , 0.        , 0.00392157, 0.01568627, 0.        , 0.        , 0.        , 0.        ,\n",
       "        0.00392157, 0.00392157, 0.        ],\n",
       "       [0.        , 0.        , 0.        , 0.        , 0.        , 0.        , 0.        , 0.        , 0.        , 0.        , 0.        , 0.        , 0.01176471, 0.        , 0.14117647, 0.53333333, 0.49803922, 0.24313725, 0.21176471, 0.        , 0.        , 0.        , 0.00392157, 0.01176471, 0.01568627,\n",
       "        0.        , 0.        , 0.01176471],\n",
       "       [0.        , 0.        , 0.        , 0.        , 0.        , 0.        , 0.        , 0.        , 0.        , 0.        , 0.        , 0.        , 0.02352941, 0.        , 0.4       , 0.8       , 0.69019608, 0.5254902 , 0.56470588, 0.48235294, 0.09019608, 0.        , 0.        , 0.        , 0.        ,\n",
       "        0.04705882, 0.03921569, 0.        ],\n",
       "       [0.        , 0.        , 0.        , 0.        , 0.        , 0.        , 0.        , 0.        , 0.        , 0.        , 0.        , 0.        , 0.        , 0.        , 0.60784314, 0.9254902 , 0.81176471, 0.69803922, 0.41960784, 0.61176471, 0.63137255, 0.42745098, 0.25098039, 0.09019608, 0.30196078,\n",
       "        0.50980392, 0.28235294, 0.05882353],\n",
       "       [0.        , 0.        , 0.        , 0.        , 0.        , 0.        , 0.        , 0.        , 0.        , 0.        , 0.        , 0.00392157, 0.        , 0.27058824, 0.81176471, 0.8745098 , 0.85490196, 0.84705882, 0.84705882, 0.63921569, 0.49803922, 0.4745098 , 0.47843137, 0.57254902, 0.55294118,\n",
       "        0.34509804, 0.6745098 , 0.25882353],\n",
       "       [0.        , 0.        , 0.        , 0.        , 0.        , 0.        , 0.        , 0.        , 0.        , 0.00392157, 0.00392157, 0.00392157, 0.        , 0.78431373, 0.90980392, 0.90980392, 0.91372549, 0.89803922, 0.8745098 , 0.8745098 , 0.84313725, 0.83529412, 0.64313725, 0.49803922, 0.48235294,\n",
       "        0.76862745, 0.89803922, 0.        ],\n",
       "       [0.        , 0.        , 0.        , 0.        , 0.        , 0.        , 0.        , 0.        , 0.        , 0.        , 0.        , 0.        , 0.        , 0.71764706, 0.88235294, 0.84705882, 0.8745098 , 0.89411765, 0.92156863, 0.89019608, 0.87843137, 0.87058824, 0.87843137, 0.86666667, 0.8745098 ,\n",
       "        0.96078431, 0.67843137, 0.        ],\n",
       "       [0.        , 0.        , 0.        , 0.        , 0.        , 0.        , 0.        , 0.        , 0.        , 0.        , 0.        , 0.        , 0.        , 0.75686275, 0.89411765, 0.85490196, 0.83529412, 0.77647059, 0.70588235, 0.83137255, 0.82352941, 0.82745098, 0.83529412, 0.8745098 , 0.8627451 ,\n",
       "        0.95294118, 0.79215686, 0.        ],\n",
       "       [0.        , 0.        , 0.        , 0.        , 0.        , 0.        , 0.        , 0.        , 0.        , 0.00392157, 0.01176471, 0.        , 0.04705882, 0.85882353, 0.8627451 , 0.83137255, 0.85490196, 0.75294118, 0.6627451 , 0.89019608, 0.81568627, 0.85490196, 0.87843137, 0.83137255, 0.88627451,\n",
       "        0.77254902, 0.81960784, 0.20392157],\n",
       "       [0.        , 0.        , 0.        , 0.        , 0.        , 0.        , 0.        , 0.        , 0.        , 0.        , 0.02352941, 0.        , 0.38823529, 0.95686275, 0.87058824, 0.8627451 , 0.85490196, 0.79607843, 0.77647059, 0.86666667, 0.84313725, 0.83529412, 0.87058824, 0.8627451 , 0.96078431,\n",
       "        0.46666667, 0.65490196, 0.21960784],\n",
       "       [0.        , 0.        , 0.        , 0.        , 0.        , 0.        , 0.        , 0.        , 0.        , 0.01568627, 0.        , 0.        , 0.21568627, 0.9254902 , 0.89411765, 0.90196078, 0.89411765, 0.94117647, 0.90980392, 0.83529412, 0.85490196, 0.8745098 , 0.91764706, 0.85098039, 0.85098039,\n",
       "        0.81960784, 0.36078431, 0.        ],\n",
       "       [0.        , 0.        , 0.00392157, 0.01568627, 0.02352941, 0.02745098, 0.00784314, 0.        , 0.        , 0.        , 0.        , 0.        , 0.92941176, 0.88627451, 0.85098039, 0.8745098 , 0.87058824, 0.85882353, 0.87058824, 0.86666667, 0.84705882, 0.8745098 , 0.89803922, 0.84313725, 0.85490196,\n",
       "        1.        , 0.30196078, 0.        ],\n",
       "       [0.        , 0.01176471, 0.        , 0.        , 0.        , 0.        , 0.        , 0.        , 0.        , 0.24313725, 0.56862745, 0.8       , 0.89411765, 0.81176471, 0.83529412, 0.86666667, 0.85490196, 0.81568627, 0.82745098, 0.85490196, 0.87843137, 0.8745098 , 0.85882353, 0.84313725, 0.87843137,\n",
       "        0.95686275, 0.62352941, 0.        ],\n",
       "       [0.        , 0.        , 0.        , 0.        , 0.07058824, 0.17254902, 0.32156863, 0.41960784, 0.74117647, 0.89411765, 0.8627451 , 0.87058824, 0.85098039, 0.88627451, 0.78431373, 0.80392157, 0.82745098, 0.90196078, 0.87843137, 0.91764706, 0.69019608, 0.7372549 , 0.98039216, 0.97254902, 0.91372549,\n",
       "        0.93333333, 0.84313725, 0.        ],\n",
       "       [0.        , 0.22352941, 0.73333333, 0.81568627, 0.87843137, 0.86666667, 0.87843137, 0.81568627, 0.8       , 0.83921569, 0.81568627, 0.81960784, 0.78431373, 0.62352941, 0.96078431, 0.75686275, 0.80784314, 0.8745098 , 1.        , 1.        , 0.86666667, 0.91764706, 0.86666667, 0.82745098, 0.8627451 ,\n",
       "        0.90980392, 0.96470588, 0.        ],\n",
       "       [0.01176471, 0.79215686, 0.89411765, 0.87843137, 0.86666667, 0.82745098, 0.82745098, 0.83921569, 0.80392157, 0.80392157, 0.80392157, 0.8627451 , 0.94117647, 0.31372549, 0.58823529, 1.        , 0.89803922, 0.86666667, 0.7372549 , 0.60392157, 0.74901961, 0.82352941, 0.8       , 0.81960784, 0.87058824,\n",
       "        0.89411765, 0.88235294, 0.        ],\n",
       "       [0.38431373, 0.91372549, 0.77647059, 0.82352941, 0.87058824, 0.89803922, 0.89803922, 0.91764706, 0.97647059, 0.8627451 , 0.76078431, 0.84313725, 0.85098039, 0.94509804, 0.25490196, 0.28627451, 0.41568627, 0.45882353, 0.65882353, 0.85882353, 0.86666667, 0.84313725, 0.85098039, 0.8745098 , 0.8745098 ,\n",
       "        0.87843137, 0.89803922, 0.11372549],\n",
       "       [0.29411765, 0.8       , 0.83137255, 0.8       , 0.75686275, 0.80392157, 0.82745098, 0.88235294, 0.84705882, 0.7254902 , 0.77254902, 0.80784314, 0.77647059, 0.83529412, 0.94117647, 0.76470588, 0.89019608, 0.96078431, 0.9372549 , 0.8745098 , 0.85490196, 0.83137255, 0.81960784, 0.87058824, 0.8627451 ,\n",
       "        0.86666667, 0.90196078, 0.2627451 ],\n",
       "       [0.18823529, 0.79607843, 0.71764706, 0.76078431, 0.83529412, 0.77254902, 0.7254902 , 0.74509804, 0.76078431, 0.75294118, 0.79215686, 0.83921569, 0.85882353, 0.86666667, 0.8627451 , 0.9254902 , 0.88235294, 0.84705882, 0.78039216, 0.80784314, 0.72941176, 0.70980392, 0.69411765, 0.6745098 , 0.70980392,\n",
       "        0.80392157, 0.80784314, 0.45098039],\n",
       "       [0.        , 0.47843137, 0.85882353, 0.75686275, 0.70196078, 0.67058824, 0.71764706, 0.76862745, 0.8       , 0.82352941, 0.83529412, 0.81176471, 0.82745098, 0.82352941, 0.78431373, 0.76862745, 0.76078431, 0.74901961, 0.76470588, 0.74901961, 0.77647059, 0.75294118, 0.69019608, 0.61176471, 0.65490196,\n",
       "        0.69411765, 0.82352941, 0.36078431],\n",
       "       [0.        , 0.        , 0.29019608, 0.74117647, 0.83137255, 0.74901961, 0.68627451, 0.6745098 , 0.68627451, 0.70980392, 0.7254902 , 0.7372549 , 0.74117647, 0.7372549 , 0.75686275, 0.77647059, 0.8       , 0.81960784, 0.82352941, 0.82352941, 0.82745098, 0.7372549 , 0.7372549 , 0.76078431, 0.75294118,\n",
       "        0.84705882, 0.66666667, 0.        ],\n",
       "       [0.00784314, 0.        , 0.        , 0.        , 0.25882353, 0.78431373, 0.87058824, 0.92941176, 0.9372549 , 0.94901961, 0.96470588, 0.95294118, 0.95686275, 0.86666667, 0.8627451 , 0.75686275, 0.74901961, 0.70196078, 0.71372549, 0.71372549, 0.70980392, 0.69019608, 0.65098039, 0.65882353, 0.38823529,\n",
       "        0.22745098, 0.        , 0.        ],\n",
       "       [0.        , 0.        , 0.        , 0.        , 0.        , 0.        , 0.        , 0.15686275, 0.23921569, 0.17254902, 0.28235294, 0.16078431, 0.1372549 , 0.        , 0.        , 0.        , 0.        , 0.        , 0.        , 0.        , 0.        , 0.        , 0.        , 0.        , 0.        ,\n",
       "        0.        , 0.        , 0.        ],\n",
       "       [0.        , 0.        , 0.        , 0.        , 0.        , 0.        , 0.        , 0.        , 0.        , 0.        , 0.        , 0.        , 0.        , 0.        , 0.        , 0.        , 0.        , 0.        , 0.        , 0.        , 0.        , 0.        , 0.        , 0.        , 0.        ,\n",
       "        0.        , 0.        , 0.        ],\n",
       "       [0.        , 0.        , 0.        , 0.        , 0.        , 0.        , 0.        , 0.        , 0.        , 0.        , 0.        , 0.        , 0.        , 0.        , 0.        , 0.        , 0.        , 0.        , 0.        , 0.        , 0.        , 0.        , 0.        , 0.        , 0.        ,\n",
       "        0.        , 0.        , 0.        ]])"
      ]
     },
     "execution_count": 75,
     "metadata": {},
     "output_type": "execute_result"
    }
   ],
   "source": [
    "\n",
    "\n",
    "X_train =X_train/ 255.0\n",
    "X_test =X_test/ 255.0\n",
    "X_train[0]"
   ]
  },
  {
   "cell_type": "code",
   "execution_count": 76,
   "metadata": {},
   "outputs": [],
   "source": [
    "\n",
    "model = tf.keras.models.Sequential([\n",
    "\n",
    "    tf.keras.layers.Flatten(),\n",
    "    tf.keras.layers.Dense(1024,activation='relu'),\n",
    "    tf.keras.layers.Dense(10,activation='softmax')\n",
    "])"
   ]
  },
  {
   "cell_type": "code",
   "execution_count": 81,
   "metadata": {},
   "outputs": [],
   "source": [
    "model.compile(optimizer='adam',loss= 'sparse_categorical_crossentropy',metrics=['accuracy'])"
   ]
  },
  {
   "cell_type": "code",
   "execution_count": 82,
   "metadata": {},
   "outputs": [
    {
     "name": "stdout",
     "output_type": "stream",
     "text": [
      "Epoch 1/5\n",
      "1863/1875 [============================>.] - ETA: 0s - loss: 0.4588 - accuracy: 0.8365\n",
      "Reached 60% accuracy so cancelling training!\n",
      "1875/1875 [==============================] - 9s 5ms/step - loss: 0.4584 - accuracy: 0.8367\n"
     ]
    },
    {
     "data": {
      "text/plain": [
       "<keras.callbacks.History at 0x295c6bd45e0>"
      ]
     },
     "execution_count": 82,
     "metadata": {},
     "output_type": "execute_result"
    }
   ],
   "source": [
    "model.fit(X_train,y_train,epochs=5,callbacks=[callbacks])"
   ]
  },
  {
   "cell_type": "code",
   "execution_count": null,
   "metadata": {},
   "outputs": [],
   "source": []
  }
 ],
 "metadata": {
  "kernelspec": {
   "display_name": "base",
   "language": "python",
   "name": "python3"
  },
  "language_info": {
   "codemirror_mode": {
    "name": "ipython",
    "version": 3
   },
   "file_extension": ".py",
   "mimetype": "text/x-python",
   "name": "python",
   "nbconvert_exporter": "python",
   "pygments_lexer": "ipython3",
   "version": "3.9.16"
  },
  "orig_nbformat": 4
 },
 "nbformat": 4,
 "nbformat_minor": 2
}
